{
 "cells": [
  {
   "cell_type": "code",
   "execution_count": 37,
   "metadata": {},
   "outputs": [
    {
     "name": "stdout",
     "output_type": "stream",
     "text": [
      "torch.Size([3, 2]) torch.Size([2]) torch.Size([2, 2])\n",
      "tensor([[2.0000e-04, 0.0000e+00],\n",
      "        [1.0000e-04, 2.0000e+00]])\n",
      "tensor([[2.0000e-04, 2.8320e-10],\n",
      "        [9.9261e-05, 2.0000e+00]])\n",
      "tensor([[-1.3333,  1.0833],\n",
      "        [-0.3333,  0.3333],\n",
      "        [ 0.6667, -0.4167]])\n",
      "tensor([[-1.3333,  1.0833],\n",
      "        [-0.3333,  0.3333],\n",
      "        [ 0.6667, -0.4167]])\n"
     ]
    }
   ],
   "source": [
    "import torch\n",
    "import torch.nn as nn\n",
    "\n",
    "# adapter_up = nn.Linear(8, 768, bias=False)\n",
    "# nn.init.eye_(adapter_up.weight)\n",
    "\n",
    "# inv = torch.linalg.svd(adapter_up.weight)\n",
    "\n",
    "### Upsampling, W: m*n, m>n\n",
    "### Condition: W has full column rank\n",
    "W = torch.tensor([[1, 2], [3, 4], [5, 6]], dtype=torch.float32)\n",
    "# W = torch.tensor([[1, 2], [2, 4], [3, 6]], dtype=torch.float32)\n",
    "# x = torch.tensor([[1, 2], [4, 5]], dtype=torch.float32)\n",
    "x = torch.tensor([[0.0002, 0], [0.0001, 2]], dtype=torch.float32)\n",
    "\n",
    "### Downsampling, W: m*n, m<n\n",
    "# W = torch.tensor([[1, 2, 3], [3, 4, 5]], dtype=torch.float32)\n",
    "# # x = torch.tensor([[1, 2, 3], [4, 5, 6]], dtype=torch.float32)\n",
    "# x = torch.tensor([[1, 0, 0], [0, 2, 3]], dtype=torch.float32)\n",
    "\n",
    "y = torch.matmul(x, W.T)\n",
    "\n",
    "U, S, Vh = torch.linalg.svd(W, full_matrices=False)\n",
    "\n",
    "print(U.shape, S.shape, Vh.shape)\n",
    "\n",
    "S_inv = torch.diag(1 / S)\n",
    "# Pad the matrix to the desired size\n",
    "# S_inv = torch.nn.functional.pad(S_inv, (0, U.size(-1) - S_inv.size(-1), 0, Vh.size(-1) - S_inv.size(-1)))\n",
    "# print(S_inv.shape)\n",
    "\n",
    "W_inv = Vh.T @ S_inv @ U.T\n",
    "W_inv_T = U @ S_inv @ Vh\n",
    "\n",
    "back_x = torch.matmul(y, W_inv_T)\n",
    "\n",
    "print(x)\n",
    "print(back_x)\n",
    "\n",
    "print(W_inv.T)\n",
    "print(W_inv_T)"
   ]
  },
  {
   "cell_type": "code",
   "execution_count": 8,
   "metadata": {},
   "outputs": [
    {
     "data": {
      "text/plain": [
       "tensor([[1, 0, 0],\n",
       "        [0, 2, 0],\n",
       "        [0, 0, 3]])"
      ]
     },
     "execution_count": 8,
     "metadata": {},
     "output_type": "execute_result"
    }
   ],
   "source": [
    "import torch\n",
    "\n",
    "s = torch.tensor([1, 2, 3])\n",
    "m = 5\n",
    "# s.expand(m, -1)\n",
    "\n",
    "torch.diag(s)"
   ]
  }
 ],
 "metadata": {
  "kernelspec": {
   "display_name": "mcunetv3",
   "language": "python",
   "name": "python3"
  },
  "language_info": {
   "codemirror_mode": {
    "name": "ipython",
    "version": 3
   },
   "file_extension": ".py",
   "mimetype": "text/x-python",
   "name": "python",
   "nbconvert_exporter": "python",
   "pygments_lexer": "ipython3",
   "version": "3.10.14"
  }
 },
 "nbformat": 4,
 "nbformat_minor": 2
}
